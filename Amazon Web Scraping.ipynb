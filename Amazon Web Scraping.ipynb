{
 "cells": [
  {
   "cell_type": "code",
   "execution_count": 86,
   "id": "02374fed",
   "metadata": {},
   "outputs": [],
   "source": [
    "import csv\n",
    "from bs4 import BeautifulSoup\n",
    "from selenium import webdriver\n"
   ]
  },
  {
   "cell_type": "markdown",
   "id": "8293ca13",
   "metadata": {},
   "source": [
    "Startup the webdriver"
   ]
  },
  {
   "cell_type": "code",
   "execution_count": 87,
   "id": "0532deb9",
   "metadata": {},
   "outputs": [],
   "source": [
    "driver=webdriver.Chrome()"
   ]
  },
  {
   "cell_type": "code",
   "execution_count": 88,
   "id": "968b197c",
   "metadata": {},
   "outputs": [],
   "source": [
    "url='https://www.amazon.in/'\n",
    "driver.get(url)"
   ]
  },
  {
   "cell_type": "code",
   "execution_count": 89,
   "id": "254840d1",
   "metadata": {},
   "outputs": [],
   "source": [
    "def get_url(search_term):\n",
    "    #generate a url from search term\n",
    "    template=\"https://www.amazon.in/s?k={}&crid=1020VELGPJU4E&sprefix=mobil%2Caps%2C250&ref=nb_sb_noss_2\"\n",
    "    search_term=search_term.replace(' ','+')\n",
    "    return template.format(search_term)"
   ]
  },
  {
   "cell_type": "code",
   "execution_count": 90,
   "id": "9bf4af8c",
   "metadata": {},
   "outputs": [],
   "source": [
    "url1=get_url('shampoo')"
   ]
  },
  {
   "cell_type": "code",
   "execution_count": 91,
   "id": "b3329701",
   "metadata": {},
   "outputs": [],
   "source": [
    "driver.get(url1)"
   ]
  },
  {
   "cell_type": "code",
   "execution_count": 92,
   "id": "1601d905",
   "metadata": {},
   "outputs": [],
   "source": [
    "#EXTRACT THE COLLECTION\n",
    "\n",
    "soup=BeautifulSoup(driver.page_source, 'html.parser')"
   ]
  },
  {
   "cell_type": "code",
   "execution_count": 95,
   "id": "5a0584ea",
   "metadata": {},
   "outputs": [],
   "source": [
    "results=soup.find_all('span',class_='a-size-base-plus a-color-base a-text-normal')"
   ]
  },
  {
   "cell_type": "code",
   "execution_count": 96,
   "id": "91a3723d",
   "metadata": {},
   "outputs": [
    {
     "data": {
      "text/plain": [
       "70"
      ]
     },
     "execution_count": 96,
     "metadata": {},
     "output_type": "execute_result"
    }
   ],
   "source": [
    "len(results)"
   ]
  },
  {
   "cell_type": "code",
   "execution_count": 97,
   "id": "15de4479",
   "metadata": {},
   "outputs": [
    {
     "name": "stdout",
     "output_type": "stream",
     "text": [
      "DABUR Vatika Health Shampoo, 640ml\n",
      "L'Oréal Professionnel Absolut Repair Shampoo With Protein And Gold Quinoa For Dry And Damaged Hair, Serie Expert, 300Ml\n",
      "Buds & Berries Nourishment Shampoo with Rice Water and Chia Seeds | Strengthens Hair, 120 Hours of Conditioning | No Sulphate, No Paraben, No Silicone (300 ml)\n",
      "Head & Shoulders Smooth and Silky, Anti Dandruff Shampoo for Women & Men , 1 L\n",
      "L'Oréal Paris Moisture Filling Shampoo, With Hyaluronic Acid, For Dry & Dehydrated Hair, Adds Shine & Bounce, Hyaluron Moisture 72H, 180ml\n",
      "Tresemme Keratin Smooth Shampoo,With Keratin And Argan Oil For Smoother And Shinier Hair, 1 Ltr\n",
      "Tresemme Hair Fall Defence Shampoo, With Keratin Protein, Upto 97% Less Hair Breakage, 1 Ltr\n",
      "DABUR Vatika Health Shampoo, 640ml\n",
      "Head & Shoulders Smooth and Silky, Anti Dandruff Shampoo for Women & Men , 1 L\n",
      "Karthika Hair Fall Shield Shampoo, White, Pleasant, 650 ml\n",
      "Head & Shoulders Cool Menthol Anti Dandruff Shampoo 650 ML\n",
      "Head & Shoulders Smooth and Silky Anti Dandruff Shampoo, 650ml\n",
      "Head & Shoulders Cool Menthol Anti Dandruff Shampoo for Women & Men, 1L\n",
      "Wella Professionals Invigo Balance Aqua Pure Purifying Shampoo, 250 ml\n",
      "Biotique Green Apple Shine & Gloss Shampoo & Conditioner For Glossy Healthy Hair, 180 ml\n",
      "L'Oréal Paris Purifying and Hydrating Shampoo, Rebalancing & Hydrating, For Oily Roots & Dry Ends, Extraordinary Clay,  340 ml\n",
      "Herbal Essences White Strawberry & Sweet Mint SHAMPOO- For Cleansing and Volume - No Paraben, No Colorants, 400 ML\n",
      "Dove Hair Fall Rescue Shampoo For Weak Hair, 1 Ltr\n",
      "Dove Daily Shine Shampoo 1 L, For Damaged Or Frizzy Hair, Makes Hair Soft, Shiny And Smooth - Mild Daily Shampoo For Men & Women\n",
      "Dove Daily Shine Shampoo 650 Ml, For Damaged Or Frizzy Hair, Makes Hair Soft, Shiny And Smooth - Mild Daily Shampoo For Men & Women\n",
      "Sunsilk Lusciously Thick & Long Shampoo 1 ltr\n",
      "Head & Shoulders, Anti-Hairfall, Anti-Dandruff Shampoo for Women & Men , 650ml\n",
      "Sunsilk Lusciously Thick & Long Shampoo 650 ml, With Keratin, Yoghut Protein and Macadamia Oil - Thickening Shampoo for Fuller Hair\n",
      "Herbal Essences Moroccan Argan Oil Shampoo For Frizz Free, Soft Hair. With Argan Oil For Hair. Paraben Free , 400 Ml\n",
      "Pantene Advanced Hairfall Solution, Total Damage Care Shampoo, Pack of 1, 340ML, Gold\n",
      "Dove Hair Fall Rescue Shampoo 650 Ml, For Damaged Hair, Hair Fall Control For Thicker Hair - Mild Daily Anti Hair Fall Shampoo For Men & Women\n",
      "L'Oréal Paris Shampoo, For Damaged and Weak Hair, With Pro-Keratin + Ceramide, Total Repair 5, 1ltr\n",
      "TRESemme Keratin Smooth Shampoo 185 ml\n",
      "Clinic Plus Strength & Shine With Egg Protein Shampoo, 355 Ml\n",
      "Kesh King Ayurvedic Anti Hairfall Shampoo Reduces Hairfall, 21 Natural Ingredients with the Goodness of Aloe Vera, Bhringraja and Amla for Silky, Shiney, Smooth Hair, 600ml\n",
      "BBLUNT Intense Moisture Shampoo with Jojoba and Vitamin E for Dry & Frizzy Hair - 300 ml\n",
      "Bare Anatomy EXPERT Anti-Dandruff Shampoo | Targets Oily Scalp and Sheds Dry Flakes | 250ml\n",
      "BBlunt Hair Fall Control Shampoo with Pea Protein & Caffeine for Stronger Hair - 300 ml\n",
      "Kimirica Ignis Bergamot and Tea Tree Shampoo For Men, made with Naturally Derived Extracts for All Hair Types, 100% Vegan, Paraben and SLS Free, 300ml\n",
      "L'Oréal Paris Shampoo, Nourishes, Repair & Shine, For Long and Lifeless Hair, Dream Lengths, 180 ml\n",
      "Indulekha Bringha Ayurvedic Shampoo 340 ml, for Hair Fall Control, With Bringharaj Extracts, Amla, Shikakai - Paraben Free, For Men & Women\n",
      "Clinic Plus Strong & Long Shampoo 340 ml, With Milk Proteins & Multivitamins for Healthy and Long Hair - Strengthening Shampoo for Hair Growth\n",
      "Himalaya Gentle Daily Care Protein Shampoo, 400ml\n",
      "Sunsilk Coconut Water & Aloe Vera Volume Hair Shampoo, 370 Ml\n",
      "Dabur Vatika Long & Black Shampoo, with the Goodness of Amla & Bhringraj for Shiny, Black Hair - 640ml\n",
      "L'Oréal Paris Anti-Hair Fall Shampoo, Reinforcing & Nourishing for Hair Growth, For Thinning & Hair Loss, With Arginine Essence and Salicylic Acid, Fall Resist 3X, 340ml\n",
      "Love Beauty & Planet Argan Oil and Lavender Sulfate Free Smooth and Serene Shampoo, No Parabens, No Dyes, 200ml\n",
      "WOW Skin Science Apple Cider Vinegar Shampoo No sulphate & Parabens, 300ml\n",
      "Nyle Naturals Damage Repair Anti Hairfall Shampoo, With Shikakai And Hibiscus, Gentle and soft shampoo , PH balanced and Paraben free, For Men and Women,800ml\n",
      "DABUR Vatika Ayurvedic Shampoo, 640ml : Power of Dus Poshan for 10 Hair Problems\n",
      "Clinic Plus Strong & Extra Thick Shampoo With Milk Protein And Almond Oil For Hair Strengthening & Volume, 355ml\n",
      "Sunsilk Stunning Black Shine Shampoo 360 ml\n",
      "Meera Hairfall Care Shampoo, Goodness Of Badam & Shikakai, For Strong & Healthy Hair, For Men And Women, Paraben Free, 650ml\n",
      "Nyle Naturals Soft and Shiny Anti Hairfall Shampoo, With Goodnes Of Apple Cider Vinegar And Argan Oil,Gentle and soft shampoo , PH balanced and Paraben free, For Men and Women, 90ml\n",
      "Khadi Natural Pure Herbal Amla & Reetha Shampoo, 210ml\n",
      "Joy Hair Fruits Shining Black Conditioning Shampoo Enriched with Amla & Black Grapes, 340 ml\n",
      "L'Oréal Paris Purifying and Hydrating Shampoo, Rebalancing & Hydrating, For Oily Roots & Dry Ends, Extraordinary Clay, 650 ml\n",
      "Dabur Anti Dandruff Shampoo - Power of 7 Natural Ingredients  - 640ml\n",
      "Wella Professionals Invigo Color Brilliance Shampoo | 250 ml | Colour Protecting Hair Cleanser for Coloured, Treated, Fine/Normal Hair | With Lime Caviar\n",
      "Buds & Berries Nourishment Shampoo with Rice Water and Chia Seeds | Strengthens Hair, 120 Hours of Conditioning | No Sulphate, No Paraben, No Silicone (300 ml)\n",
      "Bare Anatomy Ultra Smoothing Hair Shampoo | Restores Smoothing & Texture by 27% | Dry & Frizzy Hair | Powered By Carbohydrate Complex & Niacinamide | Paraben & Sulphate Free | For Women & Men | 250ml\n",
      "Halo Shampoo with Natural Egg Protein - 1 litre\n",
      "Head & Shoulders , Anti Dandruff Shampoo, Lemon Fresh, 180 ML\n",
      "L'Oréal Paris Shampoo, Moisturising & Hydrating, For Dull, Dry & Lifeless Hair, 6 Oil Nourish, 1ltr\n",
      "Biotique Bio/Fresh Neem Margosa Anti Dandruff Shampoo and Conditioner, 180ml\n",
      "BIOLAGE Scalppure Shampoo | Paraben free|Targets Dandruff, Controls The Appearance of Flakes & Relieves Scalp Irritation | For Dandruff Control\n",
      "Sunsilk Lusciously Thick & Long Shampoo 360 ml\n",
      "Pantene Advanced Hairfall Solution, Silky Smooth Care Shampoo, Pack of 1, 650ML, Green\n",
      "Dove Intense Repair Shampoo 1 L, Repairs Dry and Damaged Hair, Strengthening Shampoo for Smooth & Strong Hair - Mild Daily Shampoo for Men & Women\n",
      "Pantene Advanced Hairfall Solution, Hairfall Control Shampoo, Pack of 1, 650ML, Pink\n",
      "Schwarzkopf Professional Bonacure Keratin Smooth Perfect Micellar Shampoo | For Frizzy Hair | 250 Ml\n",
      "Himalaya Anti-Hair Fall Shampoo | Helps Reduce Hair Fall | Makes Hair Healthy | With the Goodness of Bhringraja & Palasha | For Women & Men | 200ml\n",
      "BBLUNT Curly Hair Shampoo with Coconut Water & Jojoba Oil - 300 ml\n",
      "Head & Shoulders Cool Menthol Anti Dandruff Shampoo 650 ML\n",
      "Tresemme Keratin Smooth Shampoo,With Keratin And Argan Oil For Smoother And Shinier Hair, 1 Ltr\n"
     ]
    }
   ],
   "source": [
    "for i in results:\n",
    "    print(i.text)"
   ]
  },
  {
   "cell_type": "code",
   "execution_count": null,
   "id": "f32fce74",
   "metadata": {},
   "outputs": [],
   "source": []
  }
 ],
 "metadata": {
  "kernelspec": {
   "display_name": "Python 3 (ipykernel)",
   "language": "python",
   "name": "python3"
  },
  "language_info": {
   "codemirror_mode": {
    "name": "ipython",
    "version": 3
   },
   "file_extension": ".py",
   "mimetype": "text/x-python",
   "name": "python",
   "nbconvert_exporter": "python",
   "pygments_lexer": "ipython3",
   "version": "3.8.10"
  }
 },
 "nbformat": 4,
 "nbformat_minor": 5
}
